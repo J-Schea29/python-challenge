{
 "cells": [
  {
   "cell_type": "code",
   "execution_count": 2,
   "id": "0b79554c",
   "metadata": {},
   "outputs": [
    {
     "name": "stdout",
     "output_type": "stream",
     "text": [
      "['Voter ID', 'County', 'Candidate']\n",
      "Election Results\n",
      "-------------------------------\n",
      "Total Votes: 3521001\n"
     ]
    }
   ],
   "source": [
    "#Poll Data\n",
    "\n",
    "#import needed modules\n",
    "import os\n",
    "import csv\n",
    "\n",
    "#establishing path to file\n",
    "csv_path = os.path.join(\".\", \"Resources 2\", \"election_data.csv\")\n",
    "\n",
    "total_votes = 0\n",
    "#open csv file and set delimiter as ','\n",
    "with open(csv_path) as csv_file:\n",
    "    csvreader = csv.reader(csv_file, delimiter= ',')\n",
    "    csv_header= next(csvreader)\n",
    "    \n",
    "    for row in csvreader:\n",
    "        total_votes = int(total_votes) + int(1)\n",
    "    \n",
    "print('Election Results')\n",
    "print('-------------------------------')\n",
    "print(f\"Total Votes: {total_votes}\")\n",
    "\n",
    "\n",
    "    \n",
    "#imputing data in poll.analysis file\n",
    "\n",
    "# #establishing path to output file\n",
    "# outputpath = os.path.join(\".\",\"Analysis\", \"poll.analysis\")\n",
    "\n",
    "# with open(outputpath, 'w') as csvfile: \n",
    "    \n",
    "#     csvwriter = csv.writer(csvfile, delimiter = ',')\n",
    "    \n",
    "#     #title\n",
    "#     csvwriter.writerow(['Election Results'])\n",
    "    \n",
    "#     csvwriter.writerow(['-------------------------------'])\n",
    "    \n",
    "#     #The total number of votes cast\n",
    "#     csvwriter.writerow([f\"Total Votes: {total_votes}\"])\n",
    "    \n",
    "#     csvwriter.writerow(['-------------------------------'])\n",
    "    \n",
    "#     #A complete list of candidates who received votes\n",
    "#     #The percentage of votes each candidate won\n",
    "#     #The total number of votes each candidate won\n",
    "#     csvwriter.writerow([f\"{candidate}: ${The winner of the election based on popular vote}\"])\n",
    "    \n",
    "#     csvwriter.writerow(['-------------------------------'])\n",
    "    \n",
    "#     #The winner of the election based on popular vote\n",
    "#     csvwriter.writerow([f\"Winner:   \"])"
   ]
  },
  {
   "cell_type": "code",
   "execution_count": null,
   "id": "94d670d8",
   "metadata": {},
   "outputs": [],
   "source": []
  },
  {
   "cell_type": "code",
   "execution_count": null,
   "id": "9d836cc6",
   "metadata": {},
   "outputs": [],
   "source": []
  }
 ],
 "metadata": {
  "kernelspec": {
   "display_name": "Python 3",
   "language": "python",
   "name": "python3"
  },
  "language_info": {
   "codemirror_mode": {
    "name": "ipython",
    "version": 3
   },
   "file_extension": ".py",
   "mimetype": "text/x-python",
   "name": "python",
   "nbconvert_exporter": "python",
   "pygments_lexer": "ipython3",
   "version": "3.8.8"
  }
 },
 "nbformat": 4,
 "nbformat_minor": 5
}
