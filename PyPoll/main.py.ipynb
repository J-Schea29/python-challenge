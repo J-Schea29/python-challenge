{
 "cells": [
  {
   "cell_type": "code",
   "execution_count": 6,
   "id": "0b79554c",
   "metadata": {},
   "outputs": [
    {
     "name": "stdout",
     "output_type": "stream",
     "text": [
      "<_csv.reader object at 0x000001C9A71F0FA0>\n"
     ]
    },
    {
     "ename": "ValueError",
     "evalue": "I/O operation on closed file.",
     "output_type": "error",
     "traceback": [
      "\u001b[1;31m---------------------------------------------------------------------------\u001b[0m",
      "\u001b[1;31mValueError\u001b[0m                                Traceback (most recent call last)",
      "\u001b[1;32m<ipython-input-6-c716d05a820f>\u001b[0m in \u001b[0;36m<module>\u001b[1;34m\u001b[0m\n\u001b[0;32m     11\u001b[0m     \u001b[0mcsv_header\u001b[0m\u001b[1;33m=\u001b[0m \u001b[0mnext\u001b[0m\u001b[1;33m(\u001b[0m\u001b[0mcsvreader\u001b[0m\u001b[1;33m)\u001b[0m\u001b[1;33m\u001b[0m\u001b[1;33m\u001b[0m\u001b[0m\n\u001b[0;32m     12\u001b[0m     \u001b[0mprint\u001b[0m\u001b[1;33m(\u001b[0m\u001b[0mcsvreader\u001b[0m\u001b[1;33m)\u001b[0m\u001b[1;33m\u001b[0m\u001b[1;33m\u001b[0m\u001b[0m\n\u001b[1;32m---> 13\u001b[1;33m \u001b[1;32mfor\u001b[0m \u001b[0mrow\u001b[0m \u001b[1;32min\u001b[0m \u001b[0mcsvreader\u001b[0m\u001b[1;33m:\u001b[0m\u001b[1;33m\u001b[0m\u001b[1;33m\u001b[0m\u001b[0m\n\u001b[0m\u001b[0;32m     14\u001b[0m     \u001b[0mprint\u001b[0m\u001b[1;33m(\u001b[0m\u001b[0mrow\u001b[0m\u001b[1;33m)\u001b[0m\u001b[1;33m\u001b[0m\u001b[1;33m\u001b[0m\u001b[0m\n\u001b[0;32m     15\u001b[0m \u001b[0mprint\u001b[0m\u001b[1;33m(\u001b[0m\u001b[1;33m)\u001b[0m\u001b[1;33m\u001b[0m\u001b[1;33m\u001b[0m\u001b[0m\n",
      "\u001b[1;31mValueError\u001b[0m: I/O operation on closed file."
     ]
    }
   ],
   "source": [
    "#import needed modules\n",
    "import os\n",
    "import csv\n",
    "\n",
    "#establishing path to file\n",
    "csv_path = os.path.join(\".\", \"Resources\", \"election_data.csv\")\n",
    "\n",
    "#open csv file and set delimiter as ','\n",
    "with open(csv_path) as csv_file:\n",
    "    csvreader = csv.reader(csv_file, delimiter= ',')\n",
    "    csv_header= next(csvreader)\n",
    "    print(csvreader)\n",
    "for row in csvreader:\n",
    "    print(row)\n",
    "print()    \n",
    "print('Election Results')\n",
    "print('-------------------------------')\n",
    "\n",
    "    \n",
    "#imputing data in poll.analysis file\n",
    "\n",
    "# #establishing path to output file\n",
    "# outputpath = os.path.join(\".\",\"Analysis\", \"poll.analysis\")\n",
    "\n",
    "# with open(outputpath, 'w') as csvfile: \n",
    "    \n",
    "#     csvwriter = csv.writer(csvfile, delimiter = ',')\n",
    "    \n",
    "#     #title\n",
    "#     csvwriter.writerow(['Election Results'])\n",
    "    \n",
    "#     csvwriter.writerow(['-------------------------------'])\n",
    "    \n",
    "#     #The total number of votes cast\n",
    "#     csvwriter.writerow([f\"Total Votes: {total_votes}\"])\n",
    "    \n",
    "#     csvwriter.writerow(['-------------------------------'])\n",
    "    \n",
    "#     #A complete list of candidates who received votes\n",
    "#     #The percentage of votes each candidate won\n",
    "#     #The total number of votes each candidate won\n",
    "#     csvwriter.writerow([f\"{candidate}: ${The winner of the election based on popular vote}\"])\n",
    "    \n",
    "#     csvwriter.writerow(['-------------------------------'])\n",
    "    \n",
    "#     #The winner of the election based on popular vote\n",
    "#     csvwriter.writerow([f\"Winner:   \"])"
   ]
  },
  {
   "cell_type": "code",
   "execution_count": null,
   "id": "07cb3190",
   "metadata": {},
   "outputs": [],
   "source": []
  }
 ],
 "metadata": {
  "kernelspec": {
   "display_name": "Python 3",
   "language": "python",
   "name": "python3"
  },
  "language_info": {
   "codemirror_mode": {
    "name": "ipython",
    "version": 3
   },
   "file_extension": ".py",
   "mimetype": "text/x-python",
   "name": "python",
   "nbconvert_exporter": "python",
   "pygments_lexer": "ipython3",
   "version": "3.8.8"
  }
 },
 "nbformat": 4,
 "nbformat_minor": 5
}
