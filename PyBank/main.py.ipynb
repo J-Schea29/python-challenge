{
 "cells": [
  {
   "cell_type": "code",
   "execution_count": 49,
   "id": "1b8911c2",
   "metadata": {},
   "outputs": [
    {
     "name": "stdout",
     "output_type": "stream",
     "text": [
      "['Date', 'Profit/Losses']\n",
      "Financial Analysis\n",
      "------------------\n",
      "Total Months: 86\n",
      "Total: $38382578\n"
     ]
    }
   ],
   "source": [
    "#import needed modules\n",
    "import os\n",
    "import csv\n",
    "\n",
    "#establishing path to file\n",
    "csv_path = os.path.join(\".\", \"Resources\", \"budget_data.csv\")\n",
    "\n",
    "#open csv file and set delimiter as ','\n",
    "with open(csv_path) as csv_file:\n",
    "    csvreader = csv.reader(csv_file, delimiter= ',')\n",
    "    csv_header= next(csvreader)\n",
    "    \n",
    "    #declare variables\n",
    "    total_profit = 0\n",
    "    months = 0\n",
    "    \n",
    "    #loop through rows of the csv files performing actions\n",
    "    for row in csvreader:\n",
    "        \n",
    "        #number of months\n",
    "        months = int(months) + int(1)\n",
    "        \n",
    "        #calculate total profit/losses\n",
    "        total_profit = int(total_profit) + int(row[1])\n",
    "        \n",
    "        \n",
    "        \n",
    "    #print data found    \n",
    "    print(\"Financial Analysis\")\n",
    "    print(\"------------------\")\n",
    "    print(f\"Total Months: {months}\")\n",
    "    print(f\"Total: ${total_profit}\")\n",
    "    #print()\n",
    "    #print()\n",
    "    #print()\n",
    "\n",
    "#imputing data in bank.analysis file\n",
    "\n",
    "#establishing path to output file\n",
    "#outputpath = os.path.join(\".\",\"Analysis\", \"bank.analysis\")\n",
    "\n",
    "#with open(outputpath, 'w', newline = ' ') as csvfile: \n",
    "    \n",
    "    #csv_writer = csv.writer(csvfile, delimiter = ','\n",
    "    \n",
    "    #title\n",
    "    #csvwriter.writerow(['Financial Analysis'])\n",
    "    \n",
    "    #csvwriter.writerow(['------------------'])\n",
    "    \n",
    "    #The total number of months included in the dataset\n",
    "    #csvwriter.writerow([f\"Total Months: {months}\"])\n",
    "    \n",
    "    #The net total amount of “Profit/Losses” over the entire period\n",
    "    #csvwriter.writerow([f\"Total: ${total_profit}\"])\n",
    "    \n",
    "    #Calculate the changes in “Profit/Losses” over the entire period, then find the average of those changes\n",
    "    #csvwriter.writerow([' '])\n",
    "    \n",
    "    #The greatest increase in profits (date and amount) over the entire period\n",
    "    #csvwriter.writerow([' '])\n",
    "    \n",
    "    #The greatest decrease in losses (date and amount) over the entire period\n",
    "    #csvwriter.writerow([' '])"
   ]
  },
  {
   "cell_type": "code",
   "execution_count": null,
   "id": "4df1c996",
   "metadata": {},
   "outputs": [],
   "source": []
  }
 ],
 "metadata": {
  "kernelspec": {
   "display_name": "Python 3",
   "language": "python",
   "name": "python3"
  },
  "language_info": {
   "codemirror_mode": {
    "name": "ipython",
    "version": 3
   },
   "file_extension": ".py",
   "mimetype": "text/x-python",
   "name": "python",
   "nbconvert_exporter": "python",
   "pygments_lexer": "ipython3",
   "version": "3.8.8"
  }
 },
 "nbformat": 4,
 "nbformat_minor": 5
}
