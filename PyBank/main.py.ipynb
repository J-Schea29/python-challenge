{
 "cells": [
  {
   "cell_type": "code",
   "execution_count": 53,
   "id": "1b8911c2",
   "metadata": {},
   "outputs": [
    {
     "ename": "TypeError",
     "evalue": "unsupported operand type(s) for -: 'int' and 'str'",
     "output_type": "error",
     "traceback": [
      "\u001b[1;31m---------------------------------------------------------------------------\u001b[0m",
      "\u001b[1;31mTypeError\u001b[0m                                 Traceback (most recent call last)",
      "\u001b[1;32m<ipython-input-53-e3c68fc1b9a2>\u001b[0m in \u001b[0;36m<module>\u001b[1;34m\u001b[0m\n\u001b[0;32m     30\u001b[0m         \u001b[0mtotal_profit\u001b[0m \u001b[1;33m=\u001b[0m \u001b[0mint\u001b[0m\u001b[1;33m(\u001b[0m\u001b[0mtotal_profit\u001b[0m\u001b[1;33m)\u001b[0m \u001b[1;33m+\u001b[0m \u001b[0mint\u001b[0m\u001b[1;33m(\u001b[0m\u001b[0mrow\u001b[0m\u001b[1;33m[\u001b[0m\u001b[1;36m1\u001b[0m\u001b[1;33m]\u001b[0m\u001b[1;33m)\u001b[0m\u001b[1;33m\u001b[0m\u001b[1;33m\u001b[0m\u001b[0m\n\u001b[0;32m     31\u001b[0m \u001b[1;33m\u001b[0m\u001b[0m\n\u001b[1;32m---> 32\u001b[1;33m         \u001b[0mchanges\u001b[0m \u001b[1;33m=\u001b[0m \u001b[0mint\u001b[0m\u001b[1;33m(\u001b[0m\u001b[0mrow\u001b[0m\u001b[1;33m[\u001b[0m\u001b[1;36m1\u001b[0m\u001b[1;33m]\u001b[0m\u001b[1;33m)\u001b[0m\u001b[1;33m-\u001b[0m \u001b[0mprevious\u001b[0m\u001b[1;33m\u001b[0m\u001b[1;33m\u001b[0m\u001b[0m\n\u001b[0m\u001b[0;32m     33\u001b[0m         \u001b[0mprevious\u001b[0m \u001b[1;33m=\u001b[0m \u001b[0mrow\u001b[0m\u001b[1;33m[\u001b[0m\u001b[1;36m1\u001b[0m\u001b[1;33m]\u001b[0m\u001b[1;33m\u001b[0m\u001b[1;33m\u001b[0m\u001b[0m\n\u001b[0;32m     34\u001b[0m \u001b[1;33m\u001b[0m\u001b[0m\n",
      "\u001b[1;31mTypeError\u001b[0m: unsupported operand type(s) for -: 'int' and 'str'"
     ]
    }
   ],
   "source": [
    "#import needed modules\n",
    "import os\n",
    "import csv\n",
    "\n",
    "#establishing path to file\n",
    "csv_path = os.path.join(\".\", \"Resources\", \"budget_data.csv\")\n",
    "\n",
    "#open csv file and set delimiter as ','\n",
    "with open(csv_path) as csv_file:\n",
    "    csvreader = csv.reader(csv_file, delimiter= ',')\n",
    "    csv_header= next(csvreader)\n",
    "    \n",
    "    #declare variables\n",
    "    total_profit = 0\n",
    "    months = 0\n",
    "    changes = []\n",
    "    \n",
    "    First_csv = next(csvreader)\n",
    "    previous = (First_csv[1])\n",
    "    months = int(months) + int(1)\n",
    "    total_profit = int(total_profit) + int(First_csv[1])\n",
    "    \n",
    "    #loop through rows of the csv files performing actions\n",
    "    for row in csvreader:\n",
    "        \n",
    "        #number of months\n",
    "        months = int(months) + int(1)\n",
    "        \n",
    "        #calculate total profit/losses\n",
    "        total_profit = int(total_profit) + int(row[1])\n",
    "        \n",
    "        changes = int(row[1])- previous\n",
    "        previous = row[1]\n",
    "        \n",
    "    print(changes)\n",
    "        \n",
    "    #print data found    \n",
    "    print(\"Financial Analysis\")\n",
    "    print(\"------------------\")\n",
    "    print(f\"Total Months: {months}\")\n",
    "    print(f\"Total: ${total_profit}\")\n",
    "    #print(f\"Average Change:{average_change}\")\n",
    "    #print(f\"Greatest Increase in Profits:{date_increase} (${greatest_increase})\")\n",
    "    #print(f\"Greatest Decrease in Profits:{date_decrease} (${greatest_decrease})\")\n",
    "\n",
    "#imputing data in bank.analysis file\n",
    "\n",
    "#establishing path to output file\n",
    "#outputpath = os.path.join(\".\",\"Analysis\", \"bank.analysis\")\n",
    "\n",
    "#with open(outputpath, 'w', newline = ' ') as csvfile: \n",
    "    \n",
    "    #csv_writer = csv.writer(csvfile, delimiter = ','\n",
    "    \n",
    "    #title\n",
    "    #csvwriter.writerow(['Financial Analysis'])\n",
    "    \n",
    "    #csvwriter.writerow(['------------------'])\n",
    "    \n",
    "    #The total number of months included in the dataset\n",
    "    #csvwriter.writerow([f\"Total Months: {months}\"])\n",
    "    \n",
    "    #The net total amount of “Profit/Losses” over the entire period\n",
    "    #csvwriter.writerow([f\"Total: ${total_profit}\"])\n",
    "    \n",
    "    #Calculate the changes in “Profit/Losses” over the entire period, then find the average of those changes\n",
    "    #csvwriter.writerow([f\"Average Change:{average_change}\"])\n",
    "    \n",
    "    #The greatest increase in profits (date and amount) over the entire period\n",
    "    #csvwriter.writerow([f\"Greatest Increase in Profits:{date_increase} (${greatest_increase})\"])\n",
    "    \n",
    "    #The greatest decrease in losses (date and amount) over the entire period\n",
    "    #csvwriter.writerow([f\"Greatest Decrease in Profits:{date_decrease} (${greatest_decrease})\"])"
   ]
  },
  {
   "cell_type": "code",
   "execution_count": null,
   "id": "a7eaee12",
   "metadata": {},
   "outputs": [],
   "source": []
  }
 ],
 "metadata": {
  "kernelspec": {
   "display_name": "Python 3",
   "language": "python",
   "name": "python3"
  },
  "language_info": {
   "codemirror_mode": {
    "name": "ipython",
    "version": 3
   },
   "file_extension": ".py",
   "mimetype": "text/x-python",
   "name": "python",
   "nbconvert_exporter": "python",
   "pygments_lexer": "ipython3",
   "version": "3.8.8"
  }
 },
 "nbformat": 4,
 "nbformat_minor": 5
}
